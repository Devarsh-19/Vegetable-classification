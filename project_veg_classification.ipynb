{
  "nbformat": 4,
  "nbformat_minor": 0,
  "metadata": {
    "colab": {
      "name": "project-veg_classification.ipynb",
      "provenance": [],
      "mount_file_id": "1vnFsuk4dFfSneqvybCh2BtghobLQSl0e",
      "authorship_tag": "ABX9TyNbdoovT4KMck5YQrYBJO1V",
      "include_colab_link": true
    },
    "kernelspec": {
      "name": "python3",
      "display_name": "Python 3"
    },
    "language_info": {
      "name": "python"
    },
    "accelerator": "GPU"
  },
  "cells": [
    {
      "cell_type": "markdown",
      "metadata": {
        "id": "view-in-github",
        "colab_type": "text"
      },
      "source": [
        "<a href=\"https://colab.research.google.com/github/Devarsh-19/Vegetable-classification/blob/main/project_veg_classification.ipynb\" target=\"_parent\"><img src=\"https://colab.research.google.com/assets/colab-badge.svg\" alt=\"Open In Colab\"/></a>"
      ]
    },
    {
      "cell_type": "code",
      "execution_count": null,
      "metadata": {
        "colab": {
          "base_uri": "https://localhost:8080/"
        },
        "id": "hRJgay-OWQKT",
        "outputId": "f22511a8-10d9-4e88-d479-cd1f999ffff6"
      },
      "outputs": [
        {
          "output_type": "stream",
          "name": "stdout",
          "text": [
            "Requirement already satisfied: kaggle in /usr/local/lib/python3.7/dist-packages (1.5.12)\n",
            "Requirement already satisfied: python-dateutil in /usr/local/lib/python3.7/dist-packages (from kaggle) (2.8.2)\n",
            "Requirement already satisfied: tqdm in /usr/local/lib/python3.7/dist-packages (from kaggle) (4.64.0)\n",
            "Requirement already satisfied: six>=1.10 in /usr/local/lib/python3.7/dist-packages (from kaggle) (1.15.0)\n",
            "Requirement already satisfied: python-slugify in /usr/local/lib/python3.7/dist-packages (from kaggle) (6.1.1)\n",
            "Requirement already satisfied: certifi in /usr/local/lib/python3.7/dist-packages (from kaggle) (2021.10.8)\n",
            "Requirement already satisfied: requests in /usr/local/lib/python3.7/dist-packages (from kaggle) (2.23.0)\n",
            "Requirement already satisfied: urllib3 in /usr/local/lib/python3.7/dist-packages (from kaggle) (1.24.3)\n",
            "Requirement already satisfied: text-unidecode>=1.3 in /usr/local/lib/python3.7/dist-packages (from python-slugify->kaggle) (1.3)\n",
            "Requirement already satisfied: chardet<4,>=3.0.2 in /usr/local/lib/python3.7/dist-packages (from requests->kaggle) (3.0.4)\n",
            "Requirement already satisfied: idna<3,>=2.5 in /usr/local/lib/python3.7/dist-packages (from requests->kaggle) (2.10)\n"
          ]
        }
      ],
      "source": [
        "!pip install kaggle"
      ]
    },
    {
      "cell_type": "code",
      "source": [
        "!pip install -U matplotlib"
      ],
      "metadata": {
        "colab": {
          "base_uri": "https://localhost:8080/",
          "height": 539
        },
        "id": "qGqtvHaHX5Ed",
        "outputId": "4590d8fd-9e88-4000-8c1e-22a06695c62f"
      },
      "execution_count": null,
      "outputs": [
        {
          "output_type": "stream",
          "name": "stdout",
          "text": [
            "Requirement already satisfied: matplotlib in /usr/local/lib/python3.7/dist-packages (3.2.2)\n",
            "Collecting matplotlib\n",
            "  Downloading matplotlib-3.5.1-cp37-cp37m-manylinux_2_5_x86_64.manylinux1_x86_64.whl (11.2 MB)\n",
            "\u001b[K     |████████████████████████████████| 11.2 MB 25.1 MB/s \n",
            "\u001b[?25hRequirement already satisfied: numpy>=1.17 in /usr/local/lib/python3.7/dist-packages (from matplotlib) (1.21.6)\n",
            "Requirement already satisfied: packaging>=20.0 in /usr/local/lib/python3.7/dist-packages (from matplotlib) (21.3)\n",
            "Collecting fonttools>=4.22.0\n",
            "  Downloading fonttools-4.33.0-py3-none-any.whl (929 kB)\n",
            "\u001b[K     |████████████████████████████████| 929 kB 44.2 MB/s \n",
            "\u001b[?25hRequirement already satisfied: pyparsing>=2.2.1 in /usr/local/lib/python3.7/dist-packages (from matplotlib) (3.0.8)\n",
            "Requirement already satisfied: python-dateutil>=2.7 in /usr/local/lib/python3.7/dist-packages (from matplotlib) (2.8.2)\n",
            "Requirement already satisfied: cycler>=0.10 in /usr/local/lib/python3.7/dist-packages (from matplotlib) (0.11.0)\n",
            "Requirement already satisfied: pillow>=6.2.0 in /usr/local/lib/python3.7/dist-packages (from matplotlib) (7.1.2)\n",
            "Requirement already satisfied: kiwisolver>=1.0.1 in /usr/local/lib/python3.7/dist-packages (from matplotlib) (1.4.2)\n",
            "Requirement already satisfied: typing-extensions in /usr/local/lib/python3.7/dist-packages (from kiwisolver>=1.0.1->matplotlib) (4.1.1)\n",
            "Requirement already satisfied: six>=1.5 in /usr/local/lib/python3.7/dist-packages (from python-dateutil>=2.7->matplotlib) (1.15.0)\n",
            "Installing collected packages: fonttools, matplotlib\n",
            "  Attempting uninstall: matplotlib\n",
            "    Found existing installation: matplotlib 3.2.2\n",
            "    Uninstalling matplotlib-3.2.2:\n",
            "      Successfully uninstalled matplotlib-3.2.2\n",
            "\u001b[31mERROR: pip's dependency resolver does not currently take into account all the packages that are installed. This behaviour is the source of the following dependency conflicts.\n",
            "albumentations 0.1.12 requires imgaug<0.2.7,>=0.2.5, but you have imgaug 0.2.9 which is incompatible.\u001b[0m\n",
            "Successfully installed fonttools-4.33.0 matplotlib-3.5.1\n"
          ]
        },
        {
          "output_type": "display_data",
          "data": {
            "application/vnd.colab-display-data+json": {
              "pip_warning": {
                "packages": [
                  "matplotlib",
                  "mpl_toolkits"
                ]
              }
            }
          },
          "metadata": {}
        }
      ]
    },
    {
      "cell_type": "code",
      "source": [
        "import os # file directory and file sysstem ops\n",
        "import numpy as np # for nd arrays\n",
        "\n",
        "import torch  #for deep learning\n",
        "from torch import nn\n",
        "\n",
        "from PIL import Image\n",
        "import cv2\n",
        "from matplotlib import pyplot as plt"
      ],
      "metadata": {
        "id": "tnij5-kMY8i1"
      },
      "execution_count": null,
      "outputs": []
    },
    {
      "cell_type": "code",
      "source": [
        "import torchvision\n",
        "from torchvision import transforms, datasets"
      ],
      "metadata": {
        "id": "_WPEUHtsZrCG"
      },
      "execution_count": null,
      "outputs": []
    },
    {
      "cell_type": "code",
      "source": [
        "from tqdm import tqdm #progess report and loop opertarions"
      ],
      "metadata": {
        "id": "CfNKmtfpaDF6"
      },
      "execution_count": null,
      "outputs": []
    },
    {
      "cell_type": "code",
      "source": [
        "!mkdir ~/.kaggle"
      ],
      "metadata": {
        "id": "dSGfwWP0aV2x",
        "colab": {
          "base_uri": "https://localhost:8080/"
        },
        "outputId": "d421a504-489b-45aa-a741-9b1914a7d815"
      },
      "execution_count": null,
      "outputs": [
        {
          "output_type": "stream",
          "name": "stdout",
          "text": [
            "mkdir: cannot create directory ‘/root/.kaggle’: File exists\n"
          ]
        }
      ]
    },
    {
      "cell_type": "code",
      "source": [
        "!cp kaggle.json ~/.kaggle/"
      ],
      "metadata": {
        "id": "M8QAKa5EajTG"
      },
      "execution_count": null,
      "outputs": []
    },
    {
      "cell_type": "code",
      "source": [
        "!kaggle datasets download misrakahmed/vegetable-image-dataset"
      ],
      "metadata": {
        "colab": {
          "base_uri": "https://localhost:8080/"
        },
        "id": "TwqRD8oaaolB",
        "outputId": "3a41d080-0e49-4cc6-d3af-c7f50b4e0a5e"
      },
      "execution_count": null,
      "outputs": [
        {
          "output_type": "stream",
          "name": "stdout",
          "text": [
            "Warning: Your Kaggle API key is readable by other users on this system! To fix this, you can run 'chmod 600 /root/.kaggle/kaggle.json'\n",
            "Downloading vegetable-image-dataset.zip to /content\n",
            " 99% 529M/534M [00:02<00:00, 256MB/s]\n",
            "100% 534M/534M [00:02<00:00, 225MB/s]\n"
          ]
        }
      ]
    },
    {
      "cell_type": "code",
      "source": [
        "!unzip -qq vegetable-image-dataset.zip"
      ],
      "metadata": {
        "id": "-f7YQFFXawGQ"
      },
      "execution_count": null,
      "outputs": []
    },
    {
      "cell_type": "code",
      "source": [
        "! mv Vegtable\\ Images Vegetable_Images "
      ],
      "metadata": {
        "colab": {
          "base_uri": "https://localhost:8080/"
        },
        "id": "X1VbAAiCcR9S",
        "outputId": "63918b86-19e7-461c-c619-9370a3b8d4f4"
      },
      "execution_count": null,
      "outputs": [
        {
          "output_type": "stream",
          "name": "stdout",
          "text": [
            "mv: cannot stat 'Vegtable Images': No such file or directory\n"
          ]
        }
      ]
    },
    {
      "cell_type": "markdown",
      "source": [
        "#EDA\n",
        "--------------------\n",
        "STEP 1 : Find number of classes and number of images in each class  \n",
        "STEP 2 : Size Analysis - heights, widths, resolutions, aspect rations  \n",
        "STEP 3 : Look for blurred images  \n",
        "STEP 4 : Look for low contrast images  \n",
        "STEP 5 : Look for noisy images  \n",
        "STEP 6 : Look for bright and dark images  \n"
      ],
      "metadata": {
        "id": "7d95QDBrfEO7"
      }
    },
    {
      "cell_type": "code",
      "source": [
        "train_vegetables = datasets.ImageFolder(\"Vegetable Images/train\",transform = None)\n",
        "val_vegetables = datasets.ImageFolder(\"Vegetable Images/validation\",transform = None)\n",
        "test_vegetables = datasets.ImageFolder(\"Vegetable Images/test\",transform = None)"
      ],
      "metadata": {
        "id": "RF3OizSLfbG8"
      },
      "execution_count": null,
      "outputs": []
    },
    {
      "cell_type": "code",
      "source": [
        "print(train_vegetables), print(val_vegetables), print(test_vegetables)"
      ],
      "metadata": {
        "colab": {
          "base_uri": "https://localhost:8080/"
        },
        "id": "hFm9mO2ffmxe",
        "outputId": "66577138-ea24-485d-9c0c-507067038bca"
      },
      "execution_count": null,
      "outputs": [
        {
          "output_type": "stream",
          "name": "stdout",
          "text": [
            "Dataset ImageFolder\n",
            "    Number of datapoints: 15000\n",
            "    Root location: Vegetable Images/train\n",
            "Dataset ImageFolder\n",
            "    Number of datapoints: 3000\n",
            "    Root location: Vegetable Images/validation\n",
            "Dataset ImageFolder\n",
            "    Number of datapoints: 3000\n",
            "    Root location: Vegetable Images/test\n"
          ]
        },
        {
          "output_type": "execute_result",
          "data": {
            "text/plain": [
              "(None, None, None)"
            ]
          },
          "metadata": {},
          "execution_count": 11
        }
      ]
    },
    {
      "cell_type": "code",
      "source": [
        "vegetable_classes = train_vegetables.classes\n",
        "print(f\"Classes: {vegetable_classes}\")"
      ],
      "metadata": {
        "colab": {
          "base_uri": "https://localhost:8080/"
        },
        "id": "7J_hhHBZgUIl",
        "outputId": "a3099d6d-4cbd-4600-8da2-66af594537f3"
      },
      "execution_count": null,
      "outputs": [
        {
          "output_type": "stream",
          "name": "stdout",
          "text": [
            "Classes: ['Bean', 'Bitter_Gourd', 'Bottle_Gourd', 'Brinjal', 'Broccoli', 'Cabbage', 'Capsicum', 'Carrot', 'Cauliflower', 'Cucumber', 'Papaya', 'Potato', 'Pumpkin', 'Radish', 'Tomato']\n"
          ]
        }
      ]
    },
    {
      "cell_type": "code",
      "source": [
        "print(\"No. of classes: {}\".format(len(vegetable_classes)))"
      ],
      "metadata": {
        "colab": {
          "base_uri": "https://localhost:8080/"
        },
        "id": "szfT1cDghMGN",
        "outputId": "90566ed0-5447-415d-bec3-4c070184a58f"
      },
      "execution_count": null,
      "outputs": [
        {
          "output_type": "stream",
          "name": "stdout",
          "text": [
            "No. of classes: 15\n"
          ]
        }
      ]
    },
    {
      "cell_type": "code",
      "source": [
        "targets = train_vegetables.targets"
      ],
      "metadata": {
        "id": "nDBfOg-4hVnd"
      },
      "execution_count": null,
      "outputs": []
    },
    {
      "cell_type": "code",
      "source": [
        "class_strength = np.unique(targets, return_counts= True)"
      ],
      "metadata": {
        "id": "6l1F7Cldq7n0"
      },
      "execution_count": null,
      "outputs": []
    },
    {
      "cell_type": "code",
      "source": [
        "class_strength"
      ],
      "metadata": {
        "colab": {
          "base_uri": "https://localhost:8080/"
        },
        "id": "L8hdeJFrrB_S",
        "outputId": "d259b393-3598-4071-a43b-409668e4f372"
      },
      "execution_count": null,
      "outputs": [
        {
          "output_type": "execute_result",
          "data": {
            "text/plain": [
              "(array([ 0,  1,  2,  3,  4,  5,  6,  7,  8,  9, 10, 11, 12, 13, 14]),\n",
              " array([1000, 1000, 1000, 1000, 1000, 1000, 1000, 1000, 1000, 1000, 1000,\n",
              "        1000, 1000, 1000, 1000]))"
            ]
          },
          "metadata": {},
          "execution_count": 19
        }
      ]
    },
    {
      "cell_type": "markdown",
      "source": [
        "EDA: STEP 2"
      ],
      "metadata": {
        "id": "CSXBybWOrsXz"
      }
    },
    {
      "cell_type": "code",
      "source": [
        "widths = []\n",
        "heights = []\n",
        "resolutions = []\n",
        "aspect_ratios = []\n",
        "imgs = []\n",
        "\n",
        "for i in tqdm(range(len(train_vegetables.imgs))):\n",
        "  img_path, label = train_vegetables.imgs[i]\n",
        "  img = Image.open(img_path)\n",
        "  w, h = img.size\n",
        "\n",
        "  imgs.append(img_path)\n",
        "  heights.append(h)\n",
        "  widths.append(w)\n",
        "  resolutions.append(h*w)\n",
        "  aspect_ratios.append(w/h)"
      ],
      "metadata": {
        "colab": {
          "base_uri": "https://localhost:8080/"
        },
        "id": "-RWg9NulrYnT",
        "outputId": "99c39dff-8ffe-4fdf-f13e-493e080b339e"
      },
      "execution_count": null,
      "outputs": [
        {
          "output_type": "stream",
          "name": "stderr",
          "text": [
            "100%|██████████| 15000/15000 [00:04<00:00, 3141.58it/s]\n"
          ]
        }
      ]
    },
    {
      "cell_type": "code",
      "source": [
        "print(len(heights))\n",
        "print(min(heights), max(heights))"
      ],
      "metadata": {
        "colab": {
          "base_uri": "https://localhost:8080/"
        },
        "id": "HcCbqihOvene",
        "outputId": "2c67e952-0306-4e54-cb1a-1e684db40372"
      },
      "execution_count": null,
      "outputs": [
        {
          "output_type": "stream",
          "name": "stdout",
          "text": [
            "15000\n",
            "193 224\n"
          ]
        }
      ]
    },
    {
      "cell_type": "markdown",
      "source": [
        "The standard resolution used to train the neural network images is 128 by 128.   \n",
        "for 1st image 128 x 128  \n",
        "for 2nd 224 x 224  \n",
        "for 3rd 256 x 256 and so on  \n",
        "make sure to keep resolution below 400 x 400  \n",
        "\n",
        "IMAGE AUGMENTATION -> maipulate image data"
      ],
      "metadata": {
        "id": "DC4ht7L0vnKh"
      }
    },
    {
      "cell_type": "code",
      "source": [
        "transform = transforms.Compose([\n",
        "                                transforms.Resize((224,224)),\n",
        "                                transforms.ToTensor()\n",
        "])\n",
        "\n",
        "#on colab\n",
        "\n",
        "train_vegetables = datasets.ImageFolder(\"Vegetable Images/train\",transform = transform)\n",
        "val_vegetables = datasets.ImageFolder(\"Vegetable Images/validation\",transform = transform)\n",
        "test_vegetables = datasets.ImageFolder(\"Vegetable Images/test\",transform = transform)"
      ],
      "metadata": {
        "id": "pGeDHVbRw7l6"
      },
      "execution_count": null,
      "outputs": []
    },
    {
      "cell_type": "code",
      "source": [
        "print(train_vegetables), print(val_vegetables), print(test_vegetables)"
      ],
      "metadata": {
        "colab": {
          "base_uri": "https://localhost:8080/"
        },
        "id": "_tXjdoqBxG8-",
        "outputId": "d8ba1985-f9d8-4da3-d079-bc9e71a7b8a2"
      },
      "execution_count": null,
      "outputs": [
        {
          "output_type": "stream",
          "name": "stdout",
          "text": [
            "Dataset ImageFolder\n",
            "    Number of datapoints: 15000\n",
            "    Root location: Vegetable Images/train\n",
            "    StandardTransform\n",
            "Transform: Compose(\n",
            "               Resize(size=(224, 224), interpolation=bilinear, max_size=None, antialias=None)\n",
            "               ToTensor()\n",
            "           )\n",
            "Dataset ImageFolder\n",
            "    Number of datapoints: 3000\n",
            "    Root location: Vegetable Images/validation\n",
            "    StandardTransform\n",
            "Transform: Compose(\n",
            "               Resize(size=(224, 224), interpolation=bilinear, max_size=None, antialias=None)\n",
            "               ToTensor()\n",
            "           )\n",
            "Dataset ImageFolder\n",
            "    Number of datapoints: 3000\n",
            "    Root location: Vegetable Images/test\n",
            "    StandardTransform\n",
            "Transform: Compose(\n",
            "               Resize(size=(224, 224), interpolation=bilinear, max_size=None, antialias=None)\n",
            "               ToTensor()\n",
            "           )\n"
          ]
        },
        {
          "output_type": "execute_result",
          "data": {
            "text/plain": [
              "(None, None, None)"
            ]
          },
          "metadata": {},
          "execution_count": 28
        }
      ]
    },
    {
      "cell_type": "markdown",
      "source": [
        "### DATA SAMPLER AND RANDOM SAMPLING  \n",
        "CUDA - Compute Unified Device Architecture\n",
        "Validataion Data - Ground Truth"
      ],
      "metadata": {
        "id": "aPNWnHWQy7jl"
      }
    },
    {
      "cell_type": "code",
      "source": [
        "device = torch.device(\"cuda:0\")"
      ],
      "metadata": {
        "id": "TvK-ahT3zNFM"
      },
      "execution_count": null,
      "outputs": []
    },
    {
      "cell_type": "code",
      "source": [
        "train_loader = torch.utils.data.DataLoader(train_vegetables,\n",
        "                                      batch_size = 32,\n",
        "                                      shuffle = True,\n",
        "                                      pin_memory = True)"
      ],
      "metadata": {
        "id": "DpZjNEJdzRSi"
      },
      "execution_count": null,
      "outputs": []
    },
    {
      "cell_type": "code",
      "source": [
        "test_loader = torch.utils.data.DataLoader(test_vegetables,\n",
        "                                      batch_size = 45,\n",
        "                                      shuffle = False,\n",
        "                                      pin_memory = True)"
      ],
      "metadata": {
        "id": "GU0PGo-pzVHo"
      },
      "execution_count": null,
      "outputs": []
    },
    {
      "cell_type": "code",
      "source": [
        "val_loader = torch.utils.data.DataLoader(val_vegetables,\n",
        "                                      batch_size = 40,\n",
        "                                      shuffle = False,\n",
        "                                      pin_memory = True)"
      ],
      "metadata": {
        "id": "nIeErnx22huG"
      },
      "execution_count": null,
      "outputs": []
    },
    {
      "cell_type": "code",
      "source": [
        "print(len(train_loader)), print(len(test_loader)), print(len(val_loader))"
      ],
      "metadata": {
        "colab": {
          "base_uri": "https://localhost:8080/"
        },
        "id": "ml7pSh184cQx",
        "outputId": "77030f77-c1a8-488e-e542-e16f938ce906"
      },
      "execution_count": null,
      "outputs": [
        {
          "output_type": "stream",
          "name": "stdout",
          "text": [
            "469\n",
            "67\n",
            "75\n"
          ]
        },
        {
          "output_type": "execute_result",
          "data": {
            "text/plain": [
              "(None, None, None)"
            ]
          },
          "metadata": {},
          "execution_count": 37
        }
      ]
    },
    {
      "cell_type": "code",
      "source": [
        ""
      ],
      "metadata": {
        "id": "ETFbCK9F4gPA"
      },
      "execution_count": null,
      "outputs": []
    }
  ]
}